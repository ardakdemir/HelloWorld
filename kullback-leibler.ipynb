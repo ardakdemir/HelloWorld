{
 "cells": [
  {
   "cell_type": "markdown",
   "metadata": {},
   "source": [
    "### Kullback Leibler Divergence\n",
    "\n",
    "### Arda Akdemir\n",
    "\n",
    "This measure will be used to quantify how much our approximation distribution diverges from the real data. It is used to measure the goodness of an approximation. The formula is as below:\n",
    "$$\n",
    "D_{KL}(p||q)= \\sum_{i=1}^{N}p(x_i)log\\dfrac{p(x_i)}{q(x_i)}\n",
    "$$\n",
    "\n",
    "where $p(x_i)$ is the observed distribution and $q(x_i)$ gives us the approximations."
   ]
  },
  {
   "cell_type": "code",
   "execution_count": 56,
   "metadata": {},
   "outputs": [],
   "source": [
    "import random\n",
    "import numpy as np\n",
    "import math\n",
    "from scipy.stats import binom\n",
    "import matplotlib.pyplot as plt"
   ]
  },
  {
   "cell_type": "code",
   "execution_count": 106,
   "metadata": {},
   "outputs": [],
   "source": [
    "pval=0.4\n",
    "n=10\n",
    "trial=1000\n",
    "data=np.random.binomial(n,pval,trial)"
   ]
  },
  {
   "cell_type": "code",
   "execution_count": 107,
   "metadata": {},
   "outputs": [
    {
     "data": {
      "text/plain": [
       "array([3, 3, 4, 4, 4, 3, 5, 4, 3, 1, 5, 4, 3, 5, 3, 4, 5, 3, 8, 3, 4, 6,\n",
       "       2, 7, 2, 3, 5, 1, 4, 6, 2, 1, 7, 0, 2, 2, 4, 4, 1, 4, 6, 4, 3, 6,\n",
       "       4, 3, 1, 2, 6, 3, 6, 3, 4, 2, 2, 3, 5, 3, 3, 1, 3, 5, 5, 4, 3, 5,\n",
       "       4, 6, 4, 7, 5, 3, 2, 5, 3, 4, 5, 4, 1, 4, 3, 3, 5, 2, 2, 3, 1, 7,\n",
       "       2, 5, 4, 5, 3, 5, 3, 2, 1, 2, 4, 4, 5, 4, 4, 4, 6, 6, 3, 5, 3, 3,\n",
       "       1, 6, 3, 5, 5, 4, 3, 6, 6, 4, 5, 3, 4, 6, 3, 5, 2, 4, 4, 2, 3, 4,\n",
       "       6, 2, 6, 4, 5, 4, 4, 4, 3, 6, 3, 4, 5, 5, 3, 5, 5, 5, 3, 3, 4, 3,\n",
       "       4, 4, 7, 3, 2, 2, 5, 3, 4, 4, 6, 3, 7, 3, 5, 6, 4, 5, 3, 3, 6, 7,\n",
       "       6, 6, 6, 4, 4, 7, 5, 3, 3, 5, 3, 5, 5, 6, 7, 4, 3, 4, 4, 4, 4, 5,\n",
       "       7, 5, 7, 4, 2, 5, 4, 4, 3, 3, 7, 4, 5, 3, 2, 3, 5, 4, 1, 5, 2, 2,\n",
       "       6, 3, 2, 5, 7, 5, 4, 3, 4, 7, 0, 4, 6, 2, 4, 3, 5, 5, 4, 3, 4, 5,\n",
       "       6, 5, 3, 3, 4, 2, 4, 4, 3, 6, 6, 6, 3, 4, 5, 1, 5, 4, 5, 4, 3, 2,\n",
       "       4, 4, 3, 4, 6, 3, 2, 3, 4, 2, 7, 6, 3, 4, 4, 5, 4, 3, 4, 3, 1, 4,\n",
       "       5, 5, 3, 3, 1, 4, 5, 3, 3, 3, 5, 5, 4, 3, 5, 5, 3, 2, 2, 5, 2, 3,\n",
       "       5, 4, 4, 3, 5, 1, 3, 5, 6, 6, 4, 2, 7, 4, 5, 3, 8, 2, 5, 3, 5, 5,\n",
       "       4, 4, 3, 1, 5, 2, 3, 3, 2, 5, 5, 4, 5, 4, 2, 2, 3, 3, 4, 6, 3, 4,\n",
       "       5, 7, 2, 6, 6, 2, 5, 4, 5, 5, 3, 3, 6, 4, 3, 4, 3, 5, 2, 2, 3, 3,\n",
       "       6, 3, 4, 4, 3, 1, 4, 4, 3, 5, 4, 2, 2, 4, 8, 4, 4, 4, 3, 4, 5, 4,\n",
       "       5, 2, 2, 3, 4, 4, 3, 5, 5, 5, 4, 4, 3, 3, 6, 6, 3, 4, 5, 3, 3, 5,\n",
       "       4, 3, 2, 4, 5, 7, 4, 7, 5, 3, 5, 3, 2, 6, 5, 1, 6, 3, 3, 3, 5, 4,\n",
       "       4, 5, 2, 3, 7, 4, 1, 4, 3, 5, 2, 4, 2, 5, 8, 4, 6, 4, 5, 3, 5, 1,\n",
       "       2, 2, 3, 4, 2, 4, 1, 4, 3, 4, 4, 4, 5, 4, 4, 6, 4, 4, 5, 5, 4, 3,\n",
       "       2, 3, 4, 5, 4, 4, 5, 4, 7, 4, 5, 3, 6, 6, 5, 3, 4, 5, 3, 4, 4, 3,\n",
       "       4, 5, 1, 1, 5, 2, 4, 3, 6, 2, 3, 6, 4, 4, 4, 5, 3, 4, 2, 1, 4, 5,\n",
       "       3, 5, 3, 1, 7, 2, 3, 6, 2, 3, 5, 5, 2, 4, 4, 6, 5, 4, 3, 4, 4, 6,\n",
       "       4, 2, 3, 4, 6, 4, 2, 6, 2, 5, 4, 2, 5, 5, 4, 3, 4, 2, 4, 4, 3, 6,\n",
       "       2, 4, 5, 4, 5, 4, 5, 4, 7, 0, 4, 2, 2, 3, 4, 5, 4, 5, 2, 7, 2, 1,\n",
       "       3, 5, 7, 4, 3, 4, 6, 3, 4, 4, 5, 4, 4, 8, 1, 3, 7, 3, 5, 6, 3, 7,\n",
       "       8, 3, 5, 3, 2, 5, 6, 5, 4, 3, 3, 5, 4, 3, 6, 3, 5, 7, 5, 2, 4, 3,\n",
       "       4, 3, 5, 6, 3, 5, 4, 3, 1, 4, 1, 3, 3, 3, 5, 4, 6, 3, 3, 4, 3, 1,\n",
       "       7, 2, 6, 5, 3, 4, 5, 5, 3, 4, 3, 4, 5, 5, 3, 3, 3, 3, 6, 6, 3, 4,\n",
       "       1, 3, 4, 4, 4, 5, 7, 7, 2, 5, 3, 5, 5, 1, 2, 3, 4, 3, 4, 5, 3, 1,\n",
       "       1, 9, 3, 4, 4, 7, 5, 2, 5, 5, 5, 0, 4, 3, 3, 5, 3, 5, 6, 5, 2, 5,\n",
       "       4, 4, 9, 7, 2, 5, 3, 3, 4, 1, 6, 3, 3, 2, 7, 6, 3, 4, 6, 2, 4, 3,\n",
       "       5, 4, 3, 2, 3, 2, 2, 2, 9, 2, 4, 5, 6, 5, 5, 0, 4, 4, 6, 4, 6, 2,\n",
       "       4, 4, 5, 7, 6, 5, 5, 4, 4, 4, 3, 3, 5, 6, 4, 6, 2, 7, 3, 6, 3, 6,\n",
       "       5, 4, 3, 4, 3, 6, 2, 4, 2, 5, 3, 4, 3, 3, 3, 6, 3, 5, 2, 7, 3, 3,\n",
       "       4, 6, 3, 2, 3, 6, 6, 5, 2, 4, 4, 3, 4, 4, 4, 6, 6, 4, 4, 3, 2, 3,\n",
       "       3, 6, 5, 3, 4, 4, 6, 2, 4, 5, 4, 4, 3, 6, 7, 2, 4, 3, 5, 4, 4, 4,\n",
       "       7, 3, 4, 2, 7, 5, 4, 4, 3, 6, 5, 6, 4, 1, 5, 2, 5, 6, 5, 6, 2, 4,\n",
       "       4, 5, 4, 3, 5, 5, 1, 0, 4, 4, 4, 6, 4, 6, 3, 3, 4, 4, 5, 5, 4, 4,\n",
       "       5, 4, 5, 4, 3, 2, 4, 3, 2, 5, 6, 2, 3, 4, 4, 5, 5, 3, 3, 4, 3, 3,\n",
       "       3, 8, 4, 2, 4, 3, 5, 5, 4, 5, 4, 4, 5, 3, 5, 5, 4, 4, 4, 6, 3, 7,\n",
       "       4, 4, 2, 4, 4, 5, 5, 3, 4, 3, 5, 5, 2, 3, 3, 6, 6, 6, 4, 3, 4, 1,\n",
       "       4, 5, 7, 3, 7, 3, 4, 3, 6, 4, 7, 2, 4, 3, 6, 6, 4, 6, 5, 4, 3, 2,\n",
       "       6, 1, 8, 4, 1, 5, 3, 5, 2, 6])"
      ]
     },
     "execution_count": 107,
     "metadata": {},
     "output_type": "execute_result"
    }
   ],
   "source": [
    "data"
   ]
  },
  {
   "cell_type": "markdown",
   "metadata": {},
   "source": [
    "Lets find the best p value to approximate using the kullback-leibler divergence."
   ]
  },
  {
   "cell_type": "code",
   "execution_count": 108,
   "metadata": {},
   "outputs": [],
   "source": [
    "def manfac(n,k):\n",
    "    return math.factorial(n)/(math.factorial(k)*math.factorial(n-k))"
   ]
  },
  {
   "cell_type": "code",
   "execution_count": 109,
   "metadata": {},
   "outputs": [],
   "source": [
    "class BinProbdis:\n",
    "    sp=0.5\n",
    "    tri=10\n",
    "    def __init__(self,n,p):\n",
    "        self.tri=n\n",
    "        self.sp=p\n",
    "    def prob(self,k):\n",
    "        return manfac(self.tri,k)* pow(self.sp,k) * pow((1.0-self.sp),self.tri-k)"
   ]
  },
  {
   "cell_type": "code",
   "execution_count": 110,
   "metadata": {},
   "outputs": [],
   "source": [
    "def kulleidiv(p,q):\n",
    "    kullei=0\n",
    "    for i in p.keys():\n",
    "        kullei+=p[i]*math.log(p[i]/q.prob(i))\n",
    "    return kullei"
   ]
  },
  {
   "cell_type": "code",
   "execution_count": 111,
   "metadata": {},
   "outputs": [],
   "source": [
    "def datatodict(data):\n",
    "    dic={}\n",
    "    for i in data:\n",
    "        dic[i]=0\n",
    "    for i in data:\n",
    "        dic[i]+=1.0\n",
    "    for i in dic.keys():\n",
    "        dic[i]/=len(data)\n",
    "    return dic"
   ]
  },
  {
   "cell_type": "code",
   "execution_count": 112,
   "metadata": {},
   "outputs": [
    {
     "data": {
      "text/plain": [
       "{3: 0.228,\n",
       " 4: 0.269,\n",
       " 5: 0.192,\n",
       " 1: 0.04,\n",
       " 8: 0.008,\n",
       " 6: 0.102,\n",
       " 2: 0.108,\n",
       " 7: 0.044,\n",
       " 0: 0.006,\n",
       " 9: 0.003}"
      ]
     },
     "execution_count": 112,
     "metadata": {},
     "output_type": "execute_result"
    }
   ],
   "source": [
    "datadic=datatodict(data)\n",
    "datadic"
   ]
  },
  {
   "cell_type": "code",
   "execution_count": 121,
   "metadata": {},
   "outputs": [
    {
     "data": {
      "text/plain": [
       "array([0.        , 0.02040816, 0.04081633, 0.06122449, 0.08163265,\n",
       "       0.10204082, 0.12244898, 0.14285714, 0.16326531, 0.18367347,\n",
       "       0.20408163, 0.2244898 , 0.24489796, 0.26530612, 0.28571429,\n",
       "       0.30612245, 0.32653061, 0.34693878, 0.36734694, 0.3877551 ,\n",
       "       0.40816327, 0.42857143, 0.44897959, 0.46938776, 0.48979592,\n",
       "       0.51020408, 0.53061224, 0.55102041, 0.57142857, 0.59183673,\n",
       "       0.6122449 , 0.63265306, 0.65306122, 0.67346939, 0.69387755,\n",
       "       0.71428571, 0.73469388, 0.75510204, 0.7755102 , 0.79591837,\n",
       "       0.81632653, 0.83673469, 0.85714286, 0.87755102, 0.89795918,\n",
       "       0.91836735, 0.93877551, 0.95918367, 0.97959184, 1.        ])"
      ]
     },
     "execution_count": 121,
     "metadata": {},
     "output_type": "execute_result"
    }
   ],
   "source": [
    "pvals=np.linspace(0,1,50)\n",
    "pvals"
   ]
  },
  {
   "cell_type": "code",
   "execution_count": 122,
   "metadata": {},
   "outputs": [],
   "source": [
    "def minkullei(p,nval,pvals):\n",
    "    mindiv=10000\n",
    "    pmin=0\n",
    "    divs={}\n",
    "    for p1 in pvals:\n",
    "        q=BinProbdis(nval,p1)\n",
    "        div=kulleidiv(p,q)\n",
    "        if div < mindiv:\n",
    "            mindiv=div\n",
    "            pmin=p1\n",
    "        divs[p1]=div\n",
    "    return pmin,mindiv,divs"
   ]
  },
  {
   "cell_type": "code",
   "execution_count": 123,
   "metadata": {},
   "outputs": [
    {
     "name": "stderr",
     "output_type": "stream",
     "text": [
      "/home/arda/anaconda3/lib/python3.6/site-packages/ipykernel_launcher.py:4: RuntimeWarning: divide by zero encountered in double_scalars\n",
      "  after removing the cwd from sys.path.\n"
     ]
    }
   ],
   "source": [
    "minp,minval,divs=minkullei(datadic,n,pvals)"
   ]
  },
  {
   "cell_type": "code",
   "execution_count": 124,
   "metadata": {},
   "outputs": [
    {
     "data": {
      "image/png": "[encoded data removed]",
      "text/plain": [
       "<Figure size 432x288 with 1 Axes>"
      ]
     },
     "metadata": {},
     "output_type": "display_data"
    }
   ],
   "source": [
    "plt.bar(list(datadic.keys()),[datadic[key] for key in list(datadic.keys())])\n",
    "plt.title(\"Data to be modeled using binomial distribution\")\n",
    "plt.show()"
   ]
  },
  {
   "cell_type": "code",
   "execution_count": 132,
   "metadata": {},
   "outputs": [
    {
     "data": {
      "image/png": "[encoded data removed]",
      "text/plain": [
       "<Figure size 432x288 with 1 Axes>"
      ]
     },
     "metadata": {},
     "output_type": "display_data"
    }
   ],
   "source": [
    "plt.plot(pvals,[divs[p1] for p1 in pvals])\n",
    "plt.plot(minp,divs[minp],\"ro\",label=\"best p val\")\n",
    "plt.legend()\n",
    "plt.title(\"kullback-leibler divergence for different values of p in Binom(n,p)\")\n",
    "plt.xlabel(\"p values\")\n",
    "plt.ylabel(\"divergence\")\n",
    "plt.show()"
   ]
  },
  {
   "cell_type": "code",
   "execution_count": 133,
   "metadata": {},
   "outputs": [
    {
     "data": {
      "text/plain": [
       "0.4081632653061224"
      ]
     },
     "execution_count": 133,
     "metadata": {},
     "output_type": "execute_result"
    }
   ],
   "source": [
    "minp"
   ]
  },
  {
   "cell_type": "markdown",
   "metadata": {},
   "source": [
    "We set $p=0.4$ before at the beginning and we see that using this measure we can find the optimal p value."
   ]
  },
  {
   "cell_type": "code",
   "execution_count": null,
   "metadata": {},
   "outputs": [],
   "source": []
  }
 ],
 "metadata": {
  "kernelspec": {
   "display_name": "Python 3",
   "language": "python",
   "name": "python3"
  },
  "language_info": {
   "codemirror_mode": {
    "name": "ipython",
    "version": 3
   },
   "file_extension": ".py",
   "mimetype": "text/x-python",
   "name": "python",
   "nbconvert_exporter": "python",
   "pygments_lexer": "ipython3",
   "version": "3.6.5"
  }
 },
 "nbformat": 4,
 "nbformat_minor": 2
}
